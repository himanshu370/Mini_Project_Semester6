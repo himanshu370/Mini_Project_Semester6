{
  "cells": [
    {
      "cell_type": "markdown",
      "source": [
        "# **Mini Project Semester 6**<br>\n",
        "#Topic: Generating HTML Code From UI Images<br>\n",
        "Group Members:<br>\n",
        "1.) Himanshu Bhawnani (IIB2020035)\n",
        "<br> 2.) Shreya Shrotriya (IIT2020501)<br>\n",
        "3.) Ishaan Kaustav (IIT2020261)<br>\n",
        "4.) Shreyans Jain (IIT2020238)<br>\n",
        "5.) Mantraraj Gotecha (IIT2020269)\n"
      ],
      "metadata": {
        "id": "ZGqPgtBRku_l"
      }
    },
    {
      "cell_type": "code",
      "execution_count": 1,
      "metadata": {
        "id": "xOgFfzfjYTfP"
      },
      "outputs": [],
      "source": [
        "#importing necessary modules\n",
        "from util import UIDataset, Vocabulary\n",
        "import torch.nn as nn\n",
        "import torch.nn.functional as F\n",
        "import numpy as np\n",
        "import torch\n",
        "from torch.utils.data import DataLoader\n",
        "from model import *\n",
        "import matplotlib.pyplot as plt\n",
        "from torchvision import transforms\n",
        "from PIL import Image"
      ]
    },
    {
      "cell_type": "markdown",
      "source": [
        "# **Importing Dataset**"
      ],
      "metadata": {
        "id": "ddNQeBPjl3dJ"
      }
    },
    {
      "cell_type": "markdown",
      "source": [
        "The dataset is available in the drive link: https://drive.google.com/drive/folders/1h53d1FDpqYsAoeX26Fcd2xC7xNWv5iWh?usp=sharing"
      ],
      "metadata": {
        "id": "behBzif_bzRL"
      }
    },
    {
      "cell_type": "code",
      "source": [
        "from google.colab import drive\n",
        "drive.mount(\"/content/gdrive\")"
      ],
      "metadata": {
        "colab": {
          "base_uri": "https://localhost:8080/"
        },
        "id": "ubO8QGWAn5q3",
        "outputId": "294a1322-0804-4239-94ef-bb5eb2cd6c79"
      },
      "execution_count": 2,
      "outputs": [
        {
          "output_type": "stream",
          "name": "stdout",
          "text": [
            "Mounted at /content/gdrive\n"
          ]
        }
      ]
    },
    {
      "cell_type": "code",
      "source": [
        "dataset = UIDataset('/content/gdrive/MyDrive/dataset/training', 'voc.pkl')"
      ],
      "metadata": {
        "id": "26wbVEMFW4qs"
      },
      "execution_count": null,
      "outputs": []
    },
    {
      "cell_type": "markdown",
      "metadata": {
        "id": "BcsoMhfvYTfX"
      },
      "source": [
        "# Training"
      ]
    },
    {
      "cell_type": "code",
      "execution_count": 3,
      "metadata": {
        "id": "wxdTKCWWYTfa"
      },
      "outputs": [],
      "source": [
        "net = Pix2Code().cuda()\n",
        "criterion = nn.CrossEntropyLoss()\n",
        "optimizer = torch.optim.Adam(net.parameters(), lr = 0.0001)"
      ]
    },
    {
      "cell_type": "code",
      "execution_count": 3,
      "metadata": {
        "scrolled": true,
        "id": "STCiPlULYTfc"
      },
      "outputs": [],
      "source": [
        "for epoch in range(10):\n",
        "    net.zero_grad()\n",
        "    for j, data in enumerate(dataset):\n",
        "        image, context, prediction = data\n",
        "        image = image.unsqueeze(0).cuda()\n",
        "        context = context.unsqueeze(0).cuda()\n",
        "        prediction = prediction.cuda()\n",
        "        output = net(image, context)\n",
        "        output = output.squeeze(0)\n",
        "        prediction = torch.argmax(prediction, 1)\n",
        "        loss = criterion(output, prediction)\n",
        "        loss.backward()\n",
        "        if j%10 == 0:\n",
        "            optimizer.step()\n",
        "            print('Loss: {}, Epoch: {}'.format(loss.data, epoch))\n",
        "            net.zero_grad()\n",
        "\n",
        "torch.save(net.state_dict(), './pix2code.weights')"
      ]
    },
    {
      "cell_type": "markdown",
      "metadata": {
        "id": "94DkXB5mYTff"
      },
      "source": [
        "# Testing"
      ]
    },
    {
      "cell_type": "code",
      "execution_count": 3,
      "metadata": {
        "id": "6D3idOExYTfh"
      },
      "outputs": [],
      "source": [
        "net = Pix2Code()\n",
        "net.load_state_dict(torch.load('./pix2code.weights'))\n",
        "net.cuda().eval()"
      ]
    },
    {
      "cell_type": "code",
      "source": [
        "test_data = UIDataset('./dataset/evaluation', 'voc.pkl')\n",
        "vocab = Vocabulary('voc.pkl')"
      ],
      "metadata": {
        "id": "YjVJq9wGV2Od"
      },
      "execution_count": 3,
      "outputs": []
    },
    {
      "cell_type": "code",
      "source": [
        "image, *_ = test_data.__getitem__(np.random.randint(len(test_data)))\n",
        "t = transforms.ToPILImage()\n",
        "image = image.unsqueeze(0)\n",
        "t(image.squeeze())"
      ],
      "metadata": {
        "id": "CqkS0eSjV5gV"
      },
      "execution_count": 3,
      "outputs": []
    },
    {
      "cell_type": "code",
      "execution_count": 3,
      "metadata": {
        "scrolled": true,
        "id": "p16jBdXwYTfh"
      },
      "outputs": [],
      "source": [
        "image = image.cuda()\n",
        "image = image.repeat(1, 3, 1, 1)  # Repeat the image along the channel dimension\n",
        "\n",
        "ct = []\n",
        "ct.append(vocab.to_vec(' '))\n",
        "ct.append(vocab.to_vec('<START>'))\n",
        "output = ''\n",
        "for i in range(200):\n",
        "    context = torch.tensor(ct).unsqueeze(0).float().cuda()\n",
        "    index = torch.argmax(net(image, context), 2).squeeze()[-1:].squeeze()\n",
        "    v = vocab.to_vocab(int(index))\n",
        "    if v == '<END>':\n",
        "        break\n",
        "    output += v\n",
        "    ct.append(vocab.to_vec(v))\n",
        "\n",
        "with open('output.gui', 'w') as f:\n",
        "    f.write(output)\n",
        "\n",
        "print(output)"
      ]
    },
    {
      "cell_type": "markdown",
      "metadata": {
        "id": "PrQLMI8QYTfj"
      },
      "source": [
        "This is a GUI code, in order to get the ouput from it, a GUI compiler need to be developed."
      ]
    },
    {
      "cell_type": "markdown",
      "source": [
        "# **---------------------------------------Thanks-----------------------------------------------**"
      ],
      "metadata": {
        "id": "qLXLmPHynUt7"
      }
    }
  ],
  "metadata": {
    "kernelspec": {
      "display_name": "Python 3.8.2 64-bit ('pytorch': conda)",
      "language": "python",
      "name": "python38264bitpytorchcondaf04cb2303bb94659b54446e023c3cb62"
    },
    "language_info": {
      "codemirror_mode": {
        "name": "ipython",
        "version": 3
      },
      "file_extension": ".py",
      "mimetype": "text/x-python",
      "name": "python",
      "nbconvert_exporter": "python",
      "pygments_lexer": "ipython3",
      "version": "3.8.2"
    },
    "colab": {
      "provenance": [],
      "gpuType": "T4"
    },
    "accelerator": "GPU"
  },
  "nbformat": 4,
  "nbformat_minor": 0
}